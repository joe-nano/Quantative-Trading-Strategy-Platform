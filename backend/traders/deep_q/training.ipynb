{
 "cells": [
  {
   "cell_type": "markdown",
   "metadata": {},
   "source": [
    "# DeepQ Stock Trading Agent Training"
   ]
  },
  {
   "cell_type": "code",
   "execution_count": 1,
   "metadata": {},
   "outputs": [],
   "source": [
    "%cd ../../"
   ]
  },
  {
   "cell_type": "code",
   "execution_count": 2,
   "metadata": {},
   "outputs": [],
   "source": [
    "from traders.deep_q.agent import DeepQAgent\n",
    "from traders.deep_q.state import State\n",
    "from traders.deep_q.helpers import *\n",
    "\n",
    "import numpy as np \n",
    "import pandas as pd\n",
    "import math\n",
    "import random\n",
    "import sys\n",
    "from datetime import datetime, timedelta"
   ]
  },
  {
   "cell_type": "code",
   "execution_count": 3,
   "metadata": {},
   "outputs": [],
   "source": [
    "# Setup parameters\n",
    "stock_name1 = 'AAPL'\n",
    "stock_name2 = 'TSLA'\n",
    "episode_count = 51\n",
    "start_balance = 10000\n",
    "training = 1500\n",
    "test = 500"
   ]
  },
  {
   "cell_type": "code",
   "execution_count": 4,
   "metadata": {},
   "outputs": [
    {
     "name": "stderr",
     "output_type": "stream",
     "text": [
      "/Users/mitsunari/Documents/Quantative-Trading-Strategy-Platform/venv/lib/python3.6/site-packages/pandas_datareader/compat/__init__.py:7: FutureWarning: pandas.util.testing is deprecated. Use the functions in the public API at pandas.testing instead.\n",
      "  from pandas.util.testing import assert_frame_equal\n"
     ]
    }
   ],
   "source": [
    "# Load data\n",
    "from utils.data.stock_price_data import *\n",
    "\n",
    "stock_one_data = get_stock_data(stock_name1)\n",
    "stock_two_data = get_stock_data(stock_name2)"
   ]
  },
  {
   "cell_type": "markdown",
   "metadata": {},
   "source": [
    "## Data Pre-processing\n",
    "In this section:\n",
    "\n",
    "- Look at the data and checking for anamolies (missing data etc.).\n",
    "- Convert date into right format. \n",
    "- Make sure that both the stock data is for the same time period and same days in this time period. Remove data if necessary.   \n",
    "- Look at descriptive statistics of data- mean, median, number of records.\n",
    "- Visualize the data to see how stock price changes with time"
   ]
  },
  {
   "cell_type": "markdown",
   "metadata": {},
   "source": [
    "### Checking data format"
   ]
  },
  {
   "cell_type": "code",
   "execution_count": 5,
   "metadata": {},
   "outputs": [
    {
     "data": {
      "text/html": [
       "<div>\n",
       "<style scoped>\n",
       "    .dataframe tbody tr th:only-of-type {\n",
       "        vertical-align: middle;\n",
       "    }\n",
       "\n",
       "    .dataframe tbody tr th {\n",
       "        vertical-align: top;\n",
       "    }\n",
       "\n",
       "    .dataframe thead th {\n",
       "        text-align: right;\n",
       "    }\n",
       "</style>\n",
       "<table border=\"1\" class=\"dataframe\">\n",
       "  <thead>\n",
       "    <tr style=\"text-align: right;\">\n",
       "      <th></th>\n",
       "      <th>Date</th>\n",
       "      <th>High</th>\n",
       "      <th>Low</th>\n",
       "      <th>Open</th>\n",
       "      <th>Close</th>\n",
       "      <th>Volume</th>\n",
       "      <th>Adj Close</th>\n",
       "    </tr>\n",
       "  </thead>\n",
       "  <tbody>\n",
       "    <tr>\n",
       "      <th>0</th>\n",
       "      <td>2015-09-08</td>\n",
       "      <td>28.139999</td>\n",
       "      <td>27.580000</td>\n",
       "      <td>27.937500</td>\n",
       "      <td>28.077499</td>\n",
       "      <td>219374400.0</td>\n",
       "      <td>25.946814</td>\n",
       "    </tr>\n",
       "    <tr>\n",
       "      <th>1</th>\n",
       "      <td>2015-09-09</td>\n",
       "      <td>28.504999</td>\n",
       "      <td>27.442499</td>\n",
       "      <td>28.440001</td>\n",
       "      <td>27.537500</td>\n",
       "      <td>340043200.0</td>\n",
       "      <td>25.447792</td>\n",
       "    </tr>\n",
       "    <tr>\n",
       "      <th>2</th>\n",
       "      <td>2015-09-10</td>\n",
       "      <td>28.320000</td>\n",
       "      <td>27.475000</td>\n",
       "      <td>27.567499</td>\n",
       "      <td>28.142500</td>\n",
       "      <td>251571200.0</td>\n",
       "      <td>26.006878</td>\n",
       "    </tr>\n",
       "    <tr>\n",
       "      <th>3</th>\n",
       "      <td>2015-09-11</td>\n",
       "      <td>28.552500</td>\n",
       "      <td>27.940001</td>\n",
       "      <td>27.947500</td>\n",
       "      <td>28.552500</td>\n",
       "      <td>199662000.0</td>\n",
       "      <td>26.385771</td>\n",
       "    </tr>\n",
       "    <tr>\n",
       "      <th>4</th>\n",
       "      <td>2015-09-14</td>\n",
       "      <td>29.222500</td>\n",
       "      <td>28.715000</td>\n",
       "      <td>29.145000</td>\n",
       "      <td>28.827499</td>\n",
       "      <td>233453600.0</td>\n",
       "      <td>26.639898</td>\n",
       "    </tr>\n",
       "  </tbody>\n",
       "</table>\n",
       "</div>"
      ],
      "text/plain": [
       "        Date       High        Low       Open      Close       Volume  \\\n",
       "0 2015-09-08  28.139999  27.580000  27.937500  28.077499  219374400.0   \n",
       "1 2015-09-09  28.504999  27.442499  28.440001  27.537500  340043200.0   \n",
       "2 2015-09-10  28.320000  27.475000  27.567499  28.142500  251571200.0   \n",
       "3 2015-09-11  28.552500  27.940001  27.947500  28.552500  199662000.0   \n",
       "4 2015-09-14  29.222500  28.715000  29.145000  28.827499  233453600.0   \n",
       "\n",
       "   Adj Close  \n",
       "0  25.946814  \n",
       "1  25.447792  \n",
       "2  26.006878  \n",
       "3  26.385771  \n",
       "4  26.639898  "
      ]
     },
     "execution_count": 5,
     "metadata": {},
     "output_type": "execute_result"
    }
   ],
   "source": [
    "stock_one_data.reset_index(level=0, inplace=True)\n",
    "stock_one_data.head()"
   ]
  },
  {
   "cell_type": "code",
   "execution_count": 6,
   "metadata": {},
   "outputs": [
    {
     "data": {
      "text/html": [
       "<div>\n",
       "<style scoped>\n",
       "    .dataframe tbody tr th:only-of-type {\n",
       "        vertical-align: middle;\n",
       "    }\n",
       "\n",
       "    .dataframe tbody tr th {\n",
       "        vertical-align: top;\n",
       "    }\n",
       "\n",
       "    .dataframe thead th {\n",
       "        text-align: right;\n",
       "    }\n",
       "</style>\n",
       "<table border=\"1\" class=\"dataframe\">\n",
       "  <thead>\n",
       "    <tr style=\"text-align: right;\">\n",
       "      <th></th>\n",
       "      <th>Date</th>\n",
       "      <th>High</th>\n",
       "      <th>Low</th>\n",
       "      <th>Open</th>\n",
       "      <th>Close</th>\n",
       "      <th>Volume</th>\n",
       "      <th>Adj Close</th>\n",
       "    </tr>\n",
       "  </thead>\n",
       "  <tbody>\n",
       "    <tr>\n",
       "      <th>0</th>\n",
       "      <td>2015-09-08</td>\n",
       "      <td>49.832001</td>\n",
       "      <td>48.810001</td>\n",
       "      <td>49.009998</td>\n",
       "      <td>49.633999</td>\n",
       "      <td>15691000.0</td>\n",
       "      <td>49.633999</td>\n",
       "    </tr>\n",
       "    <tr>\n",
       "      <th>1</th>\n",
       "      <td>2015-09-09</td>\n",
       "      <td>50.849998</td>\n",
       "      <td>49.660000</td>\n",
       "      <td>50.410000</td>\n",
       "      <td>49.782001</td>\n",
       "      <td>16954000.0</td>\n",
       "      <td>49.782001</td>\n",
       "    </tr>\n",
       "    <tr>\n",
       "      <th>2</th>\n",
       "      <td>2015-09-10</td>\n",
       "      <td>50.144001</td>\n",
       "      <td>49.066002</td>\n",
       "      <td>49.445999</td>\n",
       "      <td>49.695999</td>\n",
       "      <td>13545000.0</td>\n",
       "      <td>49.695999</td>\n",
       "    </tr>\n",
       "    <tr>\n",
       "      <th>3</th>\n",
       "      <td>2015-09-11</td>\n",
       "      <td>50.048000</td>\n",
       "      <td>48.945999</td>\n",
       "      <td>49.528000</td>\n",
       "      <td>50.048000</td>\n",
       "      <td>11754000.0</td>\n",
       "      <td>50.048000</td>\n",
       "    </tr>\n",
       "    <tr>\n",
       "      <th>4</th>\n",
       "      <td>2015-09-14</td>\n",
       "      <td>50.849998</td>\n",
       "      <td>49.933998</td>\n",
       "      <td>50.220001</td>\n",
       "      <td>50.638000</td>\n",
       "      <td>14454500.0</td>\n",
       "      <td>50.638000</td>\n",
       "    </tr>\n",
       "  </tbody>\n",
       "</table>\n",
       "</div>"
      ],
      "text/plain": [
       "        Date       High        Low       Open      Close      Volume  \\\n",
       "0 2015-09-08  49.832001  48.810001  49.009998  49.633999  15691000.0   \n",
       "1 2015-09-09  50.849998  49.660000  50.410000  49.782001  16954000.0   \n",
       "2 2015-09-10  50.144001  49.066002  49.445999  49.695999  13545000.0   \n",
       "3 2015-09-11  50.048000  48.945999  49.528000  50.048000  11754000.0   \n",
       "4 2015-09-14  50.849998  49.933998  50.220001  50.638000  14454500.0   \n",
       "\n",
       "   Adj Close  \n",
       "0  49.633999  \n",
       "1  49.782001  \n",
       "2  49.695999  \n",
       "3  50.048000  \n",
       "4  50.638000  "
      ]
     },
     "execution_count": 6,
     "metadata": {},
     "output_type": "execute_result"
    }
   ],
   "source": [
    "stock_two_data.reset_index(level=0, inplace=True)\n",
    "stock_two_data.head()"
   ]
  },
  {
   "cell_type": "markdown",
   "metadata": {},
   "source": [
    "### Data descriptions"
   ]
  },
  {
   "cell_type": "code",
   "execution_count": 7,
   "metadata": {},
   "outputs": [
    {
     "data": {
      "text/html": [
       "<div>\n",
       "<style scoped>\n",
       "    .dataframe tbody tr th:only-of-type {\n",
       "        vertical-align: middle;\n",
       "    }\n",
       "\n",
       "    .dataframe tbody tr th {\n",
       "        vertical-align: top;\n",
       "    }\n",
       "\n",
       "    .dataframe thead th {\n",
       "        text-align: right;\n",
       "    }\n",
       "</style>\n",
       "<table border=\"1\" class=\"dataframe\">\n",
       "  <thead>\n",
       "    <tr style=\"text-align: right;\">\n",
       "      <th></th>\n",
       "      <th>High</th>\n",
       "      <th>Low</th>\n",
       "      <th>Open</th>\n",
       "      <th>Close</th>\n",
       "      <th>Volume</th>\n",
       "      <th>Adj Close</th>\n",
       "    </tr>\n",
       "  </thead>\n",
       "  <tbody>\n",
       "    <tr>\n",
       "      <th>count</th>\n",
       "      <td>1259.000000</td>\n",
       "      <td>1259.000000</td>\n",
       "      <td>1259.000000</td>\n",
       "      <td>1259.000000</td>\n",
       "      <td>1.259000e+03</td>\n",
       "      <td>1259.000000</td>\n",
       "    </tr>\n",
       "    <tr>\n",
       "      <th>mean</th>\n",
       "      <td>46.375645</td>\n",
       "      <td>45.451501</td>\n",
       "      <td>45.895473</td>\n",
       "      <td>45.945999</td>\n",
       "      <td>1.367339e+08</td>\n",
       "      <td>44.741487</td>\n",
       "    </tr>\n",
       "    <tr>\n",
       "      <th>std</th>\n",
       "      <td>19.932868</td>\n",
       "      <td>19.303272</td>\n",
       "      <td>19.624119</td>\n",
       "      <td>19.658004</td>\n",
       "      <td>6.263313e+07</td>\n",
       "      <td>20.126807</td>\n",
       "    </tr>\n",
       "    <tr>\n",
       "      <th>min</th>\n",
       "      <td>22.917500</td>\n",
       "      <td>22.367500</td>\n",
       "      <td>22.500000</td>\n",
       "      <td>22.584999</td>\n",
       "      <td>4.544800e+07</td>\n",
       "      <td>21.202499</td>\n",
       "    </tr>\n",
       "    <tr>\n",
       "      <th>25%</th>\n",
       "      <td>29.596251</td>\n",
       "      <td>29.195000</td>\n",
       "      <td>29.395000</td>\n",
       "      <td>29.425000</td>\n",
       "      <td>9.436500e+07</td>\n",
       "      <td>27.647054</td>\n",
       "    </tr>\n",
       "    <tr>\n",
       "      <th>50%</th>\n",
       "      <td>43.035000</td>\n",
       "      <td>42.372501</td>\n",
       "      <td>42.650002</td>\n",
       "      <td>42.722500</td>\n",
       "      <td>1.195616e+08</td>\n",
       "      <td>41.378620</td>\n",
       "    </tr>\n",
       "    <tr>\n",
       "      <th>75%</th>\n",
       "      <td>53.375000</td>\n",
       "      <td>52.208750</td>\n",
       "      <td>52.687500</td>\n",
       "      <td>52.588751</td>\n",
       "      <td>1.624404e+08</td>\n",
       "      <td>51.761433</td>\n",
       "    </tr>\n",
       "    <tr>\n",
       "      <th>max</th>\n",
       "      <td>137.979996</td>\n",
       "      <td>130.529999</td>\n",
       "      <td>137.589996</td>\n",
       "      <td>134.179993</td>\n",
       "      <td>5.334788e+08</td>\n",
       "      <td>134.179993</td>\n",
       "    </tr>\n",
       "  </tbody>\n",
       "</table>\n",
       "</div>"
      ],
      "text/plain": [
       "              High          Low         Open        Close        Volume  \\\n",
       "count  1259.000000  1259.000000  1259.000000  1259.000000  1.259000e+03   \n",
       "mean     46.375645    45.451501    45.895473    45.945999  1.367339e+08   \n",
       "std      19.932868    19.303272    19.624119    19.658004  6.263313e+07   \n",
       "min      22.917500    22.367500    22.500000    22.584999  4.544800e+07   \n",
       "25%      29.596251    29.195000    29.395000    29.425000  9.436500e+07   \n",
       "50%      43.035000    42.372501    42.650002    42.722500  1.195616e+08   \n",
       "75%      53.375000    52.208750    52.687500    52.588751  1.624404e+08   \n",
       "max     137.979996   130.529999   137.589996   134.179993  5.334788e+08   \n",
       "\n",
       "         Adj Close  \n",
       "count  1259.000000  \n",
       "mean     44.741487  \n",
       "std      20.126807  \n",
       "min      21.202499  \n",
       "25%      27.647054  \n",
       "50%      41.378620  \n",
       "75%      51.761433  \n",
       "max     134.179993  "
      ]
     },
     "execution_count": 7,
     "metadata": {},
     "output_type": "execute_result"
    }
   ],
   "source": [
    "stock_one_data.describe()"
   ]
  },
  {
   "cell_type": "code",
   "execution_count": 8,
   "metadata": {},
   "outputs": [
    {
     "data": {
      "text/html": [
       "<div>\n",
       "<style scoped>\n",
       "    .dataframe tbody tr th:only-of-type {\n",
       "        vertical-align: middle;\n",
       "    }\n",
       "\n",
       "    .dataframe tbody tr th {\n",
       "        vertical-align: top;\n",
       "    }\n",
       "\n",
       "    .dataframe thead th {\n",
       "        text-align: right;\n",
       "    }\n",
       "</style>\n",
       "<table border=\"1\" class=\"dataframe\">\n",
       "  <thead>\n",
       "    <tr style=\"text-align: right;\">\n",
       "      <th></th>\n",
       "      <th>High</th>\n",
       "      <th>Low</th>\n",
       "      <th>Open</th>\n",
       "      <th>Close</th>\n",
       "      <th>Volume</th>\n",
       "      <th>Adj Close</th>\n",
       "    </tr>\n",
       "  </thead>\n",
       "  <tbody>\n",
       "    <tr>\n",
       "      <th>count</th>\n",
       "      <td>1259.000000</td>\n",
       "      <td>1259.000000</td>\n",
       "      <td>1259.000000</td>\n",
       "      <td>1259.000000</td>\n",
       "      <td>1.259000e+03</td>\n",
       "      <td>1259.000000</td>\n",
       "    </tr>\n",
       "    <tr>\n",
       "      <th>mean</th>\n",
       "      <td>75.824801</td>\n",
       "      <td>72.464618</td>\n",
       "      <td>74.169341</td>\n",
       "      <td>74.245438</td>\n",
       "      <td>4.148259e+07</td>\n",
       "      <td>74.245438</td>\n",
       "    </tr>\n",
       "    <tr>\n",
       "      <th>std</th>\n",
       "      <td>63.007735</td>\n",
       "      <td>58.366736</td>\n",
       "      <td>60.759077</td>\n",
       "      <td>60.981524</td>\n",
       "      <td>3.030278e+07</td>\n",
       "      <td>60.981524</td>\n",
       "    </tr>\n",
       "    <tr>\n",
       "      <th>min</th>\n",
       "      <td>30.993999</td>\n",
       "      <td>28.209999</td>\n",
       "      <td>28.464001</td>\n",
       "      <td>28.733999</td>\n",
       "      <td>3.540000e+06</td>\n",
       "      <td>28.733999</td>\n",
       "    </tr>\n",
       "    <tr>\n",
       "      <th>25%</th>\n",
       "      <td>46.482000</td>\n",
       "      <td>45.109001</td>\n",
       "      <td>45.868000</td>\n",
       "      <td>45.923000</td>\n",
       "      <td>2.209425e+07</td>\n",
       "      <td>45.923000</td>\n",
       "    </tr>\n",
       "    <tr>\n",
       "      <th>50%</th>\n",
       "      <td>60.202000</td>\n",
       "      <td>57.910000</td>\n",
       "      <td>59.348000</td>\n",
       "      <td>59.077999</td>\n",
       "      <td>3.186850e+07</td>\n",
       "      <td>59.077999</td>\n",
       "    </tr>\n",
       "    <tr>\n",
       "      <th>75%</th>\n",
       "      <td>69.999001</td>\n",
       "      <td>67.846001</td>\n",
       "      <td>69.033001</td>\n",
       "      <td>69.018997</td>\n",
       "      <td>4.971175e+07</td>\n",
       "      <td>69.018997</td>\n",
       "    </tr>\n",
       "    <tr>\n",
       "      <th>max</th>\n",
       "      <td>502.489990</td>\n",
       "      <td>470.510010</td>\n",
       "      <td>502.140015</td>\n",
       "      <td>498.320007</td>\n",
       "      <td>3.046940e+08</td>\n",
       "      <td>498.320007</td>\n",
       "    </tr>\n",
       "  </tbody>\n",
       "</table>\n",
       "</div>"
      ],
      "text/plain": [
       "              High          Low         Open        Close        Volume  \\\n",
       "count  1259.000000  1259.000000  1259.000000  1259.000000  1.259000e+03   \n",
       "mean     75.824801    72.464618    74.169341    74.245438  4.148259e+07   \n",
       "std      63.007735    58.366736    60.759077    60.981524  3.030278e+07   \n",
       "min      30.993999    28.209999    28.464001    28.733999  3.540000e+06   \n",
       "25%      46.482000    45.109001    45.868000    45.923000  2.209425e+07   \n",
       "50%      60.202000    57.910000    59.348000    59.077999  3.186850e+07   \n",
       "75%      69.999001    67.846001    69.033001    69.018997  4.971175e+07   \n",
       "max     502.489990   470.510010   502.140015   498.320007  3.046940e+08   \n",
       "\n",
       "         Adj Close  \n",
       "count  1259.000000  \n",
       "mean     74.245438  \n",
       "std      60.981524  \n",
       "min      28.733999  \n",
       "25%      45.923000  \n",
       "50%      59.077999  \n",
       "75%      69.018997  \n",
       "max     498.320007  "
      ]
     },
     "execution_count": 8,
     "metadata": {},
     "output_type": "execute_result"
    }
   ],
   "source": [
    "stock_two_data.describe()"
   ]
  },
  {
   "cell_type": "code",
   "execution_count": 9,
   "metadata": {},
   "outputs": [],
   "source": [
    "from utils.data.preprocessing import *"
   ]
  },
  {
   "cell_type": "code",
   "execution_count": 10,
   "metadata": {},
   "outputs": [
    {
     "name": "stdout",
     "output_type": "stream",
     "text": [
      "data is matching!\n"
     ]
    }
   ],
   "source": [
    "if stock_one_data.shape != stock_two_data.shape:\n",
    "    print('Data not clean, needs some cleansing')\n",
    "    stock_one_data, stock_two_data = make_data_match(stock_one_data, stock_two_data)\n",
    "else:\n",
    "    print(\"data is matching!\")"
   ]
  },
  {
   "cell_type": "code",
   "execution_count": 11,
   "metadata": {},
   "outputs": [],
   "source": [
    "assert stock_one_data.shape == stock_two_data.shape"
   ]
  },
  {
   "cell_type": "markdown",
   "metadata": {},
   "source": [
    "### Data Visualisation"
   ]
  },
  {
   "cell_type": "code",
   "execution_count": 12,
   "metadata": {},
   "outputs": [],
   "source": [
    "from utils.data.visualisation import StockVisualiser"
   ]
  },
  {
   "cell_type": "code",
   "execution_count": 13,
   "metadata": {},
   "outputs": [
    {
     "data": {
      "image/png": "[encoded data removed]",
      "text/plain": [
       "<Figure size 432x288 with 2 Axes>"
      ]
     },
     "metadata": {
      "needs_background": "light"
     },
     "output_type": "display_data"
    },
    {
     "data": {
      "image/png": "[encoded data removed]",
      "text/plain": [
       "<Figure size 432x288 with 2 Axes>"
      ]
     },
     "metadata": {
      "needs_background": "light"
     },
     "output_type": "display_data"
    }
   ],
   "source": [
    "stock_1_visualiser = StockVisualiser(stock_name1, stock_one_data)\n",
    "stock_2_visualiser = StockVisualiser(stock_name2, stock_two_data)\n",
    "\n",
    "stock_1_visualiser.plot()\n",
    "stock_2_visualiser.plot()"
   ]
  },
  {
   "cell_type": "markdown",
   "metadata": {},
   "source": [
    "### Dividing training and test datasets\n",
    "\n",
    "Due to correlation of stock prices between each days, this has to be in chronological order."
   ]
  },
  {
   "cell_type": "code",
   "execution_count": 14,
   "metadata": {},
   "outputs": [],
   "source": [
    "#Training and Testing Data\n",
    "stock_one_data_train, stock_one_data_test = get_train_test_split(stock_one_data, training, test)\n",
    "stock_two_data_train, stock_two_data_test = get_train_test_split(stock_two_data, training, test)"
   ]
  },
  {
   "cell_type": "markdown",
   "metadata": {},
   "source": [
    "### Benchmark model"
   ]
  },
  {
   "cell_type": "code",
   "execution_count": 19,
   "metadata": {},
   "outputs": [
    {
     "name": "stdout",
     "output_type": "stream",
     "text": [
      "closing prices : 25.137500762939453\n",
      "closing prices : 23.540000915527344\n",
      "closing prices : 28.587499618530273\n",
      "closing prices : 30.232500076293945\n",
      "closing prices : 38.474998474121094\n",
      "closing prices : 39.01499938964844\n",
      "closing prices : 42.4474983215332\n",
      "closing prices : 46.529998779296875\n",
      "closing prices : 53.974998474121094\n",
      "closing prices : 43.467498779296875\n",
      "Benchmark profit is: 11252.545475006104 with AAPL remaining 9.0 stocks and TSLA remaining 1.0 stocks\n"
     ]
    }
   ],
   "source": [
    "# Initialize state\n",
    "total_profit=[]\n",
    "done=False\n",
    "batch_size = 64\n",
    "act_datasize = len(stock_one_data_train)\n",
    "batch_size = 64\n",
    "\n",
    "# Benchmark Model\n",
    "train_one_open = stock_one_data_train['Open']\n",
    "train_two_open = stock_two_data_train['Open']\n",
    "\n",
    "train_one_date = stock_one_data_train['Date']\n",
    "\n",
    "act_bench_stock1_bal = int(np.floor((start_balance/4) / train_one_open[0]))\n",
    "act_bench_stock2_bal = int(np.floor((start_balance/4) / train_two_open[0]))\n",
    "act_benchmark_open_cash = start_balance/2\n",
    "\n",
    "# Program to calculate benchmark profit\n",
    "# sell 10% of stock in 10 intervals\n",
    "\n",
    "interval = int(act_datasize/10)\n",
    "total_stock1_amount= 0\n",
    "total_stock2_amount= 0\n",
    "stocks_one_value = 0\n",
    "stocks_two_value = 0\n",
    "\n",
    "act_stocks_one = np.floor(act_bench_stock1_bal / 10)\n",
    "act_stocks_two = np.floor(act_bench_stock2_bal / 10)\n",
    "\n",
    "remaining_stock1 = act_bench_stock1_bal\n",
    "remaining_stock2 = act_bench_stock2_bal\n",
    "\n",
    "benchmark_portfolio_value = []\n",
    "\n",
    "for j in range(interval, act_datasize+1, interval):\n",
    "    print(\"closing prices : {}\".format(train_one_open[j-1]))\n",
    "    stock_one_price_closing = train_one_open[j-1]\n",
    "    stock_two_price_closing = train_two_open[j-1]\n",
    "        \n",
    "    stock_one_date = train_one_date[j-1].strftime('%Y-%m-%d')\n",
    "                \n",
    "    stocks_one_value = act_stocks_one * stock_one_price_closing\n",
    "    stocks_two_value = act_stocks_two * stock_two_price_closing\n",
    "    remaining_stock1 = remaining_stock1 - act_stocks_one\n",
    "    remaining_stock2 = remaining_stock2 - act_stocks_two\n",
    "        \n",
    "    stock1_portfolio_value = remaining_stock1 * stock_one_price_closing\n",
    "    stock2_portfolio_value = remaining_stock2 * stock_two_price_closing\n",
    "    act_benchmark_open_cash = act_benchmark_open_cash + stocks_one_value + stocks_two_value #Adding 10% sold value into open cash\n",
    "        \n",
    "    total_portfolio_value = act_benchmark_open_cash + stock1_portfolio_value + stock2_portfolio_value\n",
    "    benchmark_portfolio_value.append([stock_one_date, total_portfolio_value])\n",
    "        \n",
    "training_benchmark_portfolio_value = total_portfolio_value\n",
    "\n",
    "print('Benchmark profit is: {} with {} remaining {} stocks and {} remaining {} stocks'.format(\n",
    "    training_benchmark_portfolio_value, stock_name1, remaining_stock1, stock_name2, remaining_stock2))\n",
    "\n",
    "\n",
    "#Define arrays to store per episode values \n",
    "total_Prof=[]\n",
    "total_stock1bal=[]\n",
    "total_stock2bal=[]\n",
    "total_open_cash=[]\n",
    "total_port_value=[]\n",
    "total_days_played=[]"
   ]
  },
  {
   "cell_type": "code",
   "execution_count": null,
   "metadata": {},
   "outputs": [],
   "source": []
  }
 ],
 "metadata": {
  "kernelspec": {
   "display_name": "Python 3",
   "language": "python",
   "name": "python3"
  },
  "language_info": {
   "codemirror_mode": {
    "name": "ipython",
    "version": 3
   },
   "file_extension": ".py",
   "mimetype": "text/x-python",
   "name": "python",
   "nbconvert_exporter": "python",
   "pygments_lexer": "ipython3",
   "version": "3.6.5"
  }
 },
 "nbformat": 4,
 "nbformat_minor": 4
}
